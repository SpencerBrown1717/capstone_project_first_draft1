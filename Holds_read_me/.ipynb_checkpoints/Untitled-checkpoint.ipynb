{
 "cells": [
  {
   "cell_type": "code",
   "execution_count": 2,
   "id": "86b49181-7406-44db-82ff-856b0a57b11d",
   "metadata": {},
   "outputs": [],
   "source": [
    "# Here is the read me \n",
    "\n",
    "\n",
    "\n",
    "#link to google colab \"https://colab.research.google.com/drive/1PwW2QzkCADodhhO1xvGH5YUNteJ02k5P?usp=sharing\""
   ]
  },
  {
   "cell_type": "code",
   "execution_count": null,
   "id": "85d209eb-33fc-4e15-83f6-4a4660a1eb0a",
   "metadata": {},
   "outputs": [],
   "source": [
    "# link to the playground colab: \"https://colab.research.google.com/drive/1D2sPWbg9abkySHf6jc3iQQRvKtPFpOQe?usp=sharing\""
   ]
  },
  {
   "cell_type": "code",
   "execution_count": null,
   "id": "8fbc7c2d-ffc9-44c2-9a23-c1688b7cfc16",
   "metadata": {},
   "outputs": [],
   "source": [
    "# presentation link \"https://www.canva.com/design/DAFhWeEHQpc/DmcbV5gmIMGOMcsKD70MuA/edit?utm_content=DAFhWeEHQpc&utm_campaign=designshare&utm_medium=link2&utm_source=sharebutton\""
   ]
  }
 ],
 "metadata": {
  "kernelspec": {
   "display_name": "Python 3 (ipykernel)",
   "language": "python",
   "name": "python3"
  },
  "language_info": {
   "codemirror_mode": {
    "name": "ipython",
    "version": 3
   },
   "file_extension": ".py",
   "mimetype": "text/x-python",
   "name": "python",
   "nbconvert_exporter": "python",
   "pygments_lexer": "ipython3",
   "version": "3.7.13"
  }
 },
 "nbformat": 4,
 "nbformat_minor": 5
}
